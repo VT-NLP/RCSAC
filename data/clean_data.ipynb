{
 "cells": [
  {
   "cell_type": "code",
   "execution_count": 1,
   "metadata": {},
   "outputs": [],
   "source": [
    "import re\n",
    "import os\n",
    "from io import StringIO\n",
    "import pandas as pd\n",
    "from bs4 import BeautifulSoup"
   ]
  },
  {
   "cell_type": "markdown",
   "metadata": {},
   "source": [
    "## First iteration to filter format 1"
   ]
  },
  {
   "cell_type": "code",
   "execution_count": 2,
   "metadata": {},
   "outputs": [],
   "source": [
    "bad_files = []\n",
    "format_1_files = []\n",
    "for name in os.listdir('./PJ-Dataset-html'):\n",
    "    if '.htm' in name:\n",
    "        soup = BeautifulSoup(open(f'./PJ-Dataset-html/{name}', encoding='latin').read(), 'html.parser')\n",
    "\n",
    "        div = soup.findAll('span', attrs= {'class':'code_chat'})\n",
    "        # print(div)\n",
    "        # lines = div[0].type\n",
    "        convo = \"\"\n",
    "        for d in div:\n",
    "            inst = \"\"\n",
    "            for lin in str(d).split('\\n'):\n",
    "                lin = lin.strip()\n",
    "                \n",
    "                # insert the beginning delimeter before date/time\n",
    "                ii = lin.find('(')\n",
    "                lin = lin[:ii-1] + '|' + lin[ii:]\n",
    "                \n",
    "                lin = lin.replace('M): ', 'M)|')\n",
    "                replaces = re.findall('(<[^>]*>)', lin)\n",
    "                # print(replaces)\n",
    "                for r in replaces:\n",
    "                    lin = lin.replace(r, '')\n",
    "\n",
    "                #print(lin)\n",
    "                if lin != '':\n",
    "                    inst += lin + \"\\n\"\n",
    "                \n",
    "            convo += inst\n",
    "        \n",
    "        try:\n",
    "            pd.read_csv(StringIO(convo), sep='|', header=None)\n",
    "\n",
    "            file = open(f'./PJ_cleaned/{name.split(\".\")[0]}.csv', 'w')\n",
    "            file.writelines(convo)\n",
    "            file.close()\n",
    "            format_1_files.append(name)\n",
    "        except:\n",
    "            bad_files.append(name)\n",
    "            continue\n"
   ]
  },
  {
   "cell_type": "code",
   "execution_count": 3,
   "metadata": {},
   "outputs": [
    {
     "name": "stdout",
     "output_type": "stream",
     "text": [
      "Successfully Cleaned 36%: 226/624\n"
     ]
    }
   ],
   "source": [
    "cln = len(os.listdir('./PJ_cleaned/'))\n",
    "all = len(os.listdir('./PJ-Dataset-html/'))\n",
    "print(f'Successfully Cleaned {int((cln/all)*100)}%: {cln}/{all}')"
   ]
  },
  {
   "cell_type": "code",
   "execution_count": 5,
   "metadata": {},
   "outputs": [
    {
     "name": "stdout",
     "output_type": "stream",
     "text": [
      "['Army_dude1982.htm', 'ProtegeES2002.htm', 'Stylelisticgrooves.htm', 'fleet_captain_jaime_wolfe.htm', 'ryan4686.htm', 'icepirate53.htm', 'Assfider.htm', 'Oberon318.htm', 'warreng68.htm', 'Arthinice.htm', 'juggalo4lifesuckas.htm', 'quin_says.htm', 'flxnonya.htm', 'phil29ct.htm', 'jaydan0033.htm', 'cookingman65.htm', 'Trianglelover.htm', 'usnavyrules2005.htm', 'Mountaindew63401.htm', 'banditcapt71.htm', 'Markiemarcc.htm', 'deaf1_one.htm', 'Daveeatsyou.htm', 'onelstsoul.htm', 'Slikesw.htm', 'KCROWOO.htm', 'Steve_steve875.htm', 'tim_myers3.htm', 'Justinnbos.htm', 'hum_366.htm', 'JDC074andSgpsmalaysia.htm', 'manofdarkneedsl951.htm', 'texassailor04.htm', 'goodguyportsmouthva.htm', 'WBSooner.htm', 'novamike30.htm', 'SpecialGuy29.htm', 'navyboy_usn.htm', 'Tucsftcoach.htm', 'trying_2b_normal.htm', 'daydreamez69.htm', 'GoodBoyB88.htm', 'ginty77.htm', 'sweet_jason002.htm', 'SetOnMyShaft.htm', 'Socal128.htm', 'jubjub970.htm', 'highplainsrider20002000.htm', 'pedro70001976.htm', 'changeforthebetter2006.htm', 'milw_male2002.htm', 'REDBD.htm', 'grassman334_bigracingfan898.htm1', 'thomascoffen.htm', 'ndbaseballstudd_ndbaseballstudd10.htm', 'jmv91373.htm', 'bluegrizzly32.htm', 'fargo1982.htm', 'singletxguyforfun.htm', 'laybay343.htm', 'jazzeman04.htm', 'johnchess2000.htm', 'stoned_party.htm', 'lowvoltage18.htm', 'i_luv_the_putay.htm', 'ich_bin_der_eggman_67.htm', 'Blandmtthw.htm', 'aticloose.htm', 'florida_in_miami.htm', 'Simpatico174.htm', 'shinelfmc2005.htm', 'meatrocket8.htm', 'fightingfalconsguy.htm', 'crackspackler200.htm', 'mygsr1.htm', 'JungleMania20050.htm', 'docman_818.htm', 'manflooking4sexwithladymoorheadf.htm', 'daytona02.htm', 'mxracer_126.htm', 'baddboyysweetheart.htm', 'Curvedforherpleasure.htm', 'godofwineof3eb.htm', 'solepleaser.htm', 'your_lil_nene.htm', 'welfare_isforwhitefolks.htm', 'WebDev2.htm', 'magic4isl2002.htm', 'greeneyed121.htm', 'ricks_talented_tongue.htm', 'jay1oc.htm', 'residentsmith.htm', 'needafriendtotalkto2005.htm', 'broken_empires.htm', 'hiexcitement.htm', 'roger4450.htm', 'kydaddyalone.htm', 'x_cums_in_the_night_x.htm', 'dick_hungwell64.htm', 'bearinwolfsfur.htm', 'Dsswinney.htm', 'HAIRYONE4U.htm', 'jaime2002_22.htm', 'DonCeech.htm', 'hardblackdick.htm', 'dtwnsd.htm', 'ndguy58746.htm', 'bravesfan34581.htm', 'zavior01.htm', 'lee_greer74.htm', 'sugardavis.htm', 'tafatiw2006.htm', 'marriedandlookingforfun31313.htm', 'Printo316.htm', 'nismo05007.htm', 'groehrig123.htm', 'Adamou217.htm', 'brian_e024.htm', 'b318ti.htm', 'iurutherford.htm', 'jc_bah.htm', 'pitbulldavid2001_caliguy4u_2005.htm', 'boosted_hollyjack.htm', 'WrghtrAlcm.htm', 'fuddster88.htm', 'pol_clemente.htm', 'scoobydooatl01.htm', 'southbayguy310.htm', 'ben_taul2000.htm', 'eveready122.htm', 'bpvmo.htm', 'lookinfforsex_fishman1192002.htm', 'jbrian1964.htm', 'toddgetrdone.htm', 'Devilzombie13.htm', 'Wulfker_Dragonslayer.htm', 'strega_num_7.htm', 'Pavlov1234.htm', 'strongman5577.htm', 'tofast4yall2003.htm', 'sst83.htm', 'rauch_jim.htm', 'restchoice2000.htm', 'green_eye_latino669.htm', 'jlh3120.htm', 'vipper_131.htm', 'tim41607.htm', 'burtoncanyon1732002.htm', 'Antitrust40242.htm', 'readyto_fck.htm', 'hk_sf_hi.htm', 'sunrise_sunset66.htm', 'hotntastymale.htm', 'dckroll.htm1', 'dave40962.htm', 'makavelli_of_lewiston.htm', 'smileman74.htm', 'daddywants2playnokc.htm', 'chrispy967.htm', 'pete_wood11.htm', 'augustadude2004.htm', 'ArmySgt1961.htm', 'Truesweetguy69.htm', 'manontherun45.htm', 'rn_buzzkiller2003.htm', 'funjxn1.htm', 'chicago_naperville.htm', 'swgamaleyess.htm', 'stephen_tanner69.htm', 'goodguy1958.htm', 'mjn_523.htm', 'daddy_needs_slave.htm', 'dveightus.htm', 'Jimster7.htm', 'boxbody00.htm', 'jtwant2play.htm', 'CrazyTrini85.htm', 'mansfield_tiger2007.htm', 'OSU_Cowboy_24.htm', 'c_meandu.htm', 'dogshowsifudo.htm', 'sadjack96.htm', 'usta_tennis.htm', 'cooperisaaca.htm', 'Indianahighroller.htm', 'audavideo_visualistener.htm', 'terubble33.htm', 'bigdaddy68iou1.htm', 'dsalyers167.htm', 'Curt350.htm', 'lovesoral54956.htm', 'User194547.htm', 'tennisboy213.htm', 'dragonrage613.htm', 'Naproxin.htm', 'sweet_jay83.htm', 'dicksobig69.htm', 'tim_arthur2001.htm', 'olgdaddy611.htm', 'willeycoyote41.htm', 'jkspeedster0112.htm', 'shinster007.htm', 'bandit8077.htm', 'mknight322.htm', 'deirules83.htm', 'bald_beaver_hunter42025.htm', 'wrestlingdudeeasttn.htm', 'venom8518.htm', 'thicklongfunone_augustfunone07.htm', 'notjustanotherncguy.htm', 'sjklanke.htm', 'ekoplaya20.htm', 'lil_dyprd_baby.htm', 'ericthebige2005_WellEndowedEric.htm', 'OjaiRadDad.htm', 'daniel_pulido78.htm', 'jarobert24.htm', 'stevetakespix_uconnbluenwhite_rickspics2006.htm', 'sahilmittal123.htm', 'lorne_a_20014.htm', 'greg_lovette33.htm', 'bwblueeyes04.htm', 'tophat106.htm', 'blkstallionfourwladies.htm', 'bloodlineofhate.htm', 'whosurdaddynj.htm', 'steamerboyddc1.htm', 'cheren03.htm', 'schutzea.htm', 'jon_mark7.htm', 'MatrixJB84.htm', 'whos_your_daddy69_99.htm', 'double_102000.htm', 'thenewperson62.htm', 'atx_muffdiver_austinphantom.htm', 'jefe6.htm', 'cuteguyinoc2002.htm', 'sean_lee53.htm', 'celica7000.htm', 'awaltherslong.htm', 'davetalbot654.htm', 'thedude420xxx.htm', 'love_is_taj.htm', 'red387peter.htm', 'six_pack_so_calif.htm', 'e_rectedmale.htm', 'daddyreyes062000.htm', 'icetruckkiller103.htm', 'jmkosis.htm', 'javiermacias84.htm', 'derbear72.htm', 'kuzzoo61.htm', 'steelmanoo.htm', 'ecwesh.htm', 'korn76_99.htm', 'fredold_2000.htm', 'nadd556.htm', 'marriedbutlonelyguy_warped_1701d.htm', 'nampamale1958.htm', 'm4pixeleen.htm', 'pal03_2004.htm', 'ljjl_9999.htm', 'jason24829.htm', 'billy_williams65.htm', 'cutechillicotheguy.htm', 'photofrog1962.htm', 'mibbbboy.htm', 'jackson39211wm.htm', 'rayray121980.htm', 'majordude200.htm', 'chawpie.htm', 'nevada_bum.htm', 'ps3player178.htm', 'garycincinnati.htm', 'freebird_72000.htm', 'kutepadude4u27.htm', 'mr_emmert.htm', 'trustnooneeveryonesfake.htm', 'LustfulSucker.htm', 'kardassian_2.htm', 'hd88399.htm', 'QX4Boi19.htm', 'rk63s2000.htm', 'cobbler1976.htm', 'boywonder832.htm', 'cheaperthanawornoutpairofconvers.htm', 'bronx42162.htm', 'har_a_lee.htm', 'bs9875327.htm', 'tulsapunker92_chrisidleone_ardmorewarrior1999.htm', 'loverboy212x.htm', 'njdavenj1.htm', 'talldreamy_doc.htm', 'cantonguy4fun_cantonguylookin.htm', 'philosophyguy2003.htm', 'Hibuddywazsup.htm', 'figwithbqe.htm', 'RknRllAnml.htm', 'funindia31.htm', 'peter2033.htm', 'michigan19602000.htm', 'shoelessdaishi.htm', 'rentalmaninpeoria.htm', 'mr_b_jones2.htm', 'detfreak99.htm', 'greg_green98.htm', 'luvs2eaturpeach.htm', 'jtg7784_tracyg7577.htm', 'michguyhere.htm', 'enjoy97601.htm', 'sjw632001.htm', 'cybertoy02.htm', 'kaz4541.htm', 'niceguy4u810.htm', 'kissmytickle.htm', 'jpeterdk2000.htm', 'bmars1411_skydivescout82.htm', 'mikeman7828.htm', 'starman542000.htm', 'duuderm.htm', 'mrk_youngblood.htm', 'jeremykeister.htm', 'gavy_nakai.htm', 'hungindian_09.htm', 'justinawashcock.htm', 'tito_92503.htm', 'marine_with_hard_cock.htm', 'Chaznd74_Chaznd1974.htm', 'hel_bomber.htm', 'malhotra_mohit.htm', 'geo_allino.htm', 'hckywingnut2000.htm', 'charlie_e44.htm', 'Salsakewl.htm', 'theoldmonk_4_all.htm', 'mesadash8pilot.htm', 'atlanta_italian.htm', 'south_calif_46m.htm', 'okape40.htm', 'n_karov.htm', 'herrhollrah_unlistedunseen.htm', 'orl00fun.htm', 'dukered2000.htm', 'h_k43232.htm', 'cowboymason2000.htm', 'vanishing150_jayolla21.htm', 'jaguarsd69.htm', 'aggresk8er.htm', 'cseli606.htm', 'philknowlan.htm', 'ems51842002.htm', 'jeff_fisher94.htm', 'prcvegas10.htm', 'georgia_emti.htm', 'BillyJoe.htm', 'wookinpanub420.htm', 'jakelewis315.htm', 'krazythug_692000.htm', 'raidersdawg5.htm', 'koolkrod16.htm', 'lovesource7.htm', 'kckboxer18.htm', 'dhaval_bharucha.htm', 'jlucero155.htm', 'allenriley2011.htm', 'kashkhan773.htm', 'jinxman555.htm', 'christopher_brown1991.htm', 'jjj_200925.htm', 'F_C.htm', 'bossofct.htm', 'Clayton_Dickerson.htm', 'crazy_town_4_2_0.htm', 'tory_beltz.htm', 'chrisnr1998.htm', 'innocentz6197.htm', 'Carlos_Cabrera.htm', 'john_adamowski.htm', 'Ryan_Thompson.htm', 'Rudy_Lee.htm', 'paulcarder86.htm', 'trvlinguy.htm', 'lvamf5454.htm', 'louisianamaster1983.htm', 'georgiamike1968.htm', 'obercock1985.htm', 'mg0942 .htm', 'Kent_Grant.htm', 'luv2licku68.htm', 'Josh_Mcclendon.htm', 'Nice_Guy.htm', 'DB.htm', 'Zachery.htm', 'jackjohnsons7.htm']\n",
      "394\n"
     ]
    }
   ],
   "source": [
    "print(bad_files)\n",
    "print(len(bad_files))"
   ]
  },
  {
   "cell_type": "markdown",
   "metadata": {},
   "source": [
    "## Second iteration to filter format 2"
   ]
  },
  {
   "cell_type": "code",
   "execution_count": 6,
   "metadata": {},
   "outputs": [],
   "source": [
    "bad_files_2 = []\n",
    "format_2_files = []\n",
    "for name in bad_files:\n",
    "    soup = BeautifulSoup(open(f'./PJ-Dataset-html/{name}', encoding='latin').read(), 'html.parser')\n",
    "    div = soup.findAll('span', attrs= {'class':'code_chat'})\n",
    "\n",
    "    for d in div:\n",
    "        lines = str(d).split('<br/>')\n",
    "        lines = '\\n'.join([x.strip() for x in lines if 'PM: ' in x])\n",
    "        replaces = re.findall('(<[^>]*>)', lines)\n",
    "        for r in replaces:\n",
    "                lines = lines.replace(r, '')\n",
    "        lines = lines.replace('PM: {', 'PM|')\n",
    "        lines = lines.replace('}', '|')\n",
    "        # print(lines)\n",
    "    try:\n",
    "        pd.read_csv(StringIO(lines), sep='|', header=None)\n",
    "        file = open(f'./PJ_cleaned/{name.split(\".\")[0]}.csv', 'w')\n",
    "        file.writelines(lines)\n",
    "        file.close()\n",
    "        format_2_files.append(name)\n",
    "    except:\n",
    "        bad_files_2.append(name)\n",
    "        continue"
   ]
  },
  {
   "cell_type": "code",
   "execution_count": 7,
   "metadata": {},
   "outputs": [
    {
     "name": "stdout",
     "output_type": "stream",
     "text": [
      "Successfully Cleaned 37%: 236/624\n"
     ]
    }
   ],
   "source": [
    "cln = len(os.listdir('./PJ_cleaned/'))\n",
    "all = len(os.listdir('./PJ-Dataset-html/'))\n",
    "print(f'Successfully Cleaned {int((cln/all)*100)}%: {cln}/{all}')"
   ]
  },
  {
   "cell_type": "code",
   "execution_count": 8,
   "metadata": {},
   "outputs": [
    {
     "name": "stdout",
     "output_type": "stream",
     "text": [
      "['SetOnMyShaft.htm', 'Socal128.htm', 'WebDev2.htm', 'magic4isl2002.htm', 'Adamou217.htm', 'dckroll.htm1', 'dave40962.htm', 'makavelli_of_lewiston.htm', 'mibbbboy.htm', 'QX4Boi19.htm']\n"
     ]
    }
   ],
   "source": [
    "print(format_2_files)"
   ]
  },
  {
   "cell_type": "code",
   "execution_count": 9,
   "metadata": {},
   "outputs": [
    {
     "name": "stdout",
     "output_type": "stream",
     "text": [
      "['Army_dude1982.htm', 'ProtegeES2002.htm', 'Stylelisticgrooves.htm', 'fleet_captain_jaime_wolfe.htm', 'ryan4686.htm', 'icepirate53.htm', 'Assfider.htm', 'Oberon318.htm', 'warreng68.htm', 'Arthinice.htm', 'juggalo4lifesuckas.htm', 'quin_says.htm', 'flxnonya.htm', 'phil29ct.htm', 'jaydan0033.htm', 'cookingman65.htm', 'Trianglelover.htm', 'usnavyrules2005.htm', 'Mountaindew63401.htm', 'banditcapt71.htm', 'Markiemarcc.htm', 'deaf1_one.htm', 'Daveeatsyou.htm', 'onelstsoul.htm', 'Slikesw.htm', 'KCROWOO.htm', 'Steve_steve875.htm', 'tim_myers3.htm', 'Justinnbos.htm', 'hum_366.htm', 'JDC074andSgpsmalaysia.htm', 'manofdarkneedsl951.htm', 'texassailor04.htm', 'goodguyportsmouthva.htm', 'WBSooner.htm', 'novamike30.htm', 'SpecialGuy29.htm', 'navyboy_usn.htm', 'Tucsftcoach.htm', 'trying_2b_normal.htm', 'daydreamez69.htm', 'GoodBoyB88.htm', 'ginty77.htm', 'sweet_jason002.htm', 'jubjub970.htm', 'highplainsrider20002000.htm', 'pedro70001976.htm', 'changeforthebetter2006.htm', 'milw_male2002.htm', 'REDBD.htm', 'grassman334_bigracingfan898.htm1', 'thomascoffen.htm', 'ndbaseballstudd_ndbaseballstudd10.htm', 'jmv91373.htm', 'bluegrizzly32.htm', 'fargo1982.htm', 'singletxguyforfun.htm', 'laybay343.htm', 'jazzeman04.htm', 'johnchess2000.htm', 'stoned_party.htm', 'lowvoltage18.htm', 'i_luv_the_putay.htm', 'ich_bin_der_eggman_67.htm', 'Blandmtthw.htm', 'aticloose.htm', 'florida_in_miami.htm', 'Simpatico174.htm', 'shinelfmc2005.htm', 'meatrocket8.htm', 'fightingfalconsguy.htm', 'crackspackler200.htm', 'mygsr1.htm', 'JungleMania20050.htm', 'docman_818.htm', 'manflooking4sexwithladymoorheadf.htm', 'daytona02.htm', 'mxracer_126.htm', 'baddboyysweetheart.htm', 'Curvedforherpleasure.htm', 'godofwineof3eb.htm', 'solepleaser.htm', 'your_lil_nene.htm', 'welfare_isforwhitefolks.htm', 'greeneyed121.htm', 'ricks_talented_tongue.htm', 'jay1oc.htm', 'residentsmith.htm', 'needafriendtotalkto2005.htm', 'broken_empires.htm', 'hiexcitement.htm', 'roger4450.htm', 'kydaddyalone.htm', 'x_cums_in_the_night_x.htm', 'dick_hungwell64.htm', 'bearinwolfsfur.htm', 'Dsswinney.htm', 'HAIRYONE4U.htm', 'jaime2002_22.htm', 'DonCeech.htm', 'hardblackdick.htm', 'dtwnsd.htm', 'ndguy58746.htm', 'bravesfan34581.htm', 'zavior01.htm', 'lee_greer74.htm', 'sugardavis.htm', 'tafatiw2006.htm', 'marriedandlookingforfun31313.htm', 'Printo316.htm', 'nismo05007.htm', 'groehrig123.htm', 'brian_e024.htm', 'b318ti.htm', 'iurutherford.htm', 'jc_bah.htm', 'pitbulldavid2001_caliguy4u_2005.htm', 'boosted_hollyjack.htm', 'WrghtrAlcm.htm', 'fuddster88.htm', 'pol_clemente.htm', 'scoobydooatl01.htm', 'southbayguy310.htm', 'ben_taul2000.htm', 'eveready122.htm', 'bpvmo.htm', 'lookinfforsex_fishman1192002.htm', 'jbrian1964.htm', 'toddgetrdone.htm', 'Devilzombie13.htm', 'Wulfker_Dragonslayer.htm', 'strega_num_7.htm', 'Pavlov1234.htm', 'strongman5577.htm', 'tofast4yall2003.htm', 'sst83.htm', 'rauch_jim.htm', 'restchoice2000.htm', 'green_eye_latino669.htm', 'jlh3120.htm', 'vipper_131.htm', 'tim41607.htm', 'burtoncanyon1732002.htm', 'Antitrust40242.htm', 'readyto_fck.htm', 'hk_sf_hi.htm', 'sunrise_sunset66.htm', 'hotntastymale.htm', 'smileman74.htm', 'daddywants2playnokc.htm', 'chrispy967.htm', 'pete_wood11.htm', 'augustadude2004.htm', 'ArmySgt1961.htm', 'Truesweetguy69.htm', 'manontherun45.htm', 'rn_buzzkiller2003.htm', 'funjxn1.htm', 'chicago_naperville.htm', 'swgamaleyess.htm', 'stephen_tanner69.htm', 'goodguy1958.htm', 'mjn_523.htm', 'daddy_needs_slave.htm', 'dveightus.htm', 'Jimster7.htm', 'boxbody00.htm', 'jtwant2play.htm', 'CrazyTrini85.htm', 'mansfield_tiger2007.htm', 'OSU_Cowboy_24.htm', 'c_meandu.htm', 'dogshowsifudo.htm', 'sadjack96.htm', 'usta_tennis.htm', 'cooperisaaca.htm', 'Indianahighroller.htm', 'audavideo_visualistener.htm', 'terubble33.htm', 'bigdaddy68iou1.htm', 'dsalyers167.htm', 'Curt350.htm', 'lovesoral54956.htm', 'User194547.htm', 'tennisboy213.htm', 'dragonrage613.htm', 'Naproxin.htm', 'sweet_jay83.htm', 'dicksobig69.htm', 'tim_arthur2001.htm', 'olgdaddy611.htm', 'willeycoyote41.htm', 'jkspeedster0112.htm', 'shinster007.htm', 'bandit8077.htm', 'mknight322.htm', 'deirules83.htm', 'bald_beaver_hunter42025.htm', 'wrestlingdudeeasttn.htm', 'venom8518.htm', 'thicklongfunone_augustfunone07.htm', 'notjustanotherncguy.htm', 'sjklanke.htm', 'ekoplaya20.htm', 'lil_dyprd_baby.htm', 'ericthebige2005_WellEndowedEric.htm', 'OjaiRadDad.htm', 'daniel_pulido78.htm', 'jarobert24.htm', 'stevetakespix_uconnbluenwhite_rickspics2006.htm', 'sahilmittal123.htm', 'lorne_a_20014.htm', 'greg_lovette33.htm', 'bwblueeyes04.htm', 'tophat106.htm', 'blkstallionfourwladies.htm', 'bloodlineofhate.htm', 'whosurdaddynj.htm', 'steamerboyddc1.htm', 'cheren03.htm', 'schutzea.htm', 'jon_mark7.htm', 'MatrixJB84.htm', 'whos_your_daddy69_99.htm', 'double_102000.htm', 'thenewperson62.htm', 'atx_muffdiver_austinphantom.htm', 'jefe6.htm', 'cuteguyinoc2002.htm', 'sean_lee53.htm', 'celica7000.htm', 'awaltherslong.htm', 'davetalbot654.htm', 'thedude420xxx.htm', 'love_is_taj.htm', 'red387peter.htm', 'six_pack_so_calif.htm', 'e_rectedmale.htm', 'daddyreyes062000.htm', 'icetruckkiller103.htm', 'jmkosis.htm', 'javiermacias84.htm', 'derbear72.htm', 'kuzzoo61.htm', 'steelmanoo.htm', 'ecwesh.htm', 'korn76_99.htm', 'fredold_2000.htm', 'nadd556.htm', 'marriedbutlonelyguy_warped_1701d.htm', 'nampamale1958.htm', 'm4pixeleen.htm', 'pal03_2004.htm', 'ljjl_9999.htm', 'jason24829.htm', 'billy_williams65.htm', 'cutechillicotheguy.htm', 'photofrog1962.htm', 'jackson39211wm.htm', 'rayray121980.htm', 'majordude200.htm', 'chawpie.htm', 'nevada_bum.htm', 'ps3player178.htm', 'garycincinnati.htm', 'freebird_72000.htm', 'kutepadude4u27.htm', 'mr_emmert.htm', 'trustnooneeveryonesfake.htm', 'LustfulSucker.htm', 'kardassian_2.htm', 'hd88399.htm', 'rk63s2000.htm', 'cobbler1976.htm', 'boywonder832.htm', 'cheaperthanawornoutpairofconvers.htm', 'bronx42162.htm', 'har_a_lee.htm', 'bs9875327.htm', 'tulsapunker92_chrisidleone_ardmorewarrior1999.htm', 'loverboy212x.htm', 'njdavenj1.htm', 'talldreamy_doc.htm', 'cantonguy4fun_cantonguylookin.htm', 'philosophyguy2003.htm', 'Hibuddywazsup.htm', 'figwithbqe.htm', 'RknRllAnml.htm', 'funindia31.htm', 'peter2033.htm', 'michigan19602000.htm', 'shoelessdaishi.htm', 'rentalmaninpeoria.htm', 'mr_b_jones2.htm', 'detfreak99.htm', 'greg_green98.htm', 'luvs2eaturpeach.htm', 'jtg7784_tracyg7577.htm', 'michguyhere.htm', 'enjoy97601.htm', 'sjw632001.htm', 'cybertoy02.htm', 'kaz4541.htm', 'niceguy4u810.htm', 'kissmytickle.htm', 'jpeterdk2000.htm', 'bmars1411_skydivescout82.htm', 'mikeman7828.htm', 'starman542000.htm', 'duuderm.htm', 'mrk_youngblood.htm', 'jeremykeister.htm', 'gavy_nakai.htm', 'hungindian_09.htm', 'justinawashcock.htm', 'tito_92503.htm', 'marine_with_hard_cock.htm', 'Chaznd74_Chaznd1974.htm', 'hel_bomber.htm', 'malhotra_mohit.htm', 'geo_allino.htm', 'hckywingnut2000.htm', 'charlie_e44.htm', 'Salsakewl.htm', 'theoldmonk_4_all.htm', 'mesadash8pilot.htm', 'atlanta_italian.htm', 'south_calif_46m.htm', 'okape40.htm', 'n_karov.htm', 'herrhollrah_unlistedunseen.htm', 'orl00fun.htm', 'dukered2000.htm', 'h_k43232.htm', 'cowboymason2000.htm', 'vanishing150_jayolla21.htm', 'jaguarsd69.htm', 'aggresk8er.htm', 'cseli606.htm', 'philknowlan.htm', 'ems51842002.htm', 'jeff_fisher94.htm', 'prcvegas10.htm', 'georgia_emti.htm', 'BillyJoe.htm', 'wookinpanub420.htm', 'jakelewis315.htm', 'krazythug_692000.htm', 'raidersdawg5.htm', 'koolkrod16.htm', 'lovesource7.htm', 'kckboxer18.htm', 'dhaval_bharucha.htm', 'jlucero155.htm', 'allenriley2011.htm', 'kashkhan773.htm', 'jinxman555.htm', 'christopher_brown1991.htm', 'jjj_200925.htm', 'F_C.htm', 'bossofct.htm', 'Clayton_Dickerson.htm', 'crazy_town_4_2_0.htm', 'tory_beltz.htm', 'chrisnr1998.htm', 'innocentz6197.htm', 'Carlos_Cabrera.htm', 'john_adamowski.htm', 'Ryan_Thompson.htm', 'Rudy_Lee.htm', 'paulcarder86.htm', 'trvlinguy.htm', 'lvamf5454.htm', 'louisianamaster1983.htm', 'georgiamike1968.htm', 'obercock1985.htm', 'mg0942 .htm', 'Kent_Grant.htm', 'luv2licku68.htm', 'Josh_Mcclendon.htm', 'Nice_Guy.htm', 'DB.htm', 'Zachery.htm', 'jackjohnsons7.htm']\n",
      "384\n"
     ]
    }
   ],
   "source": [
    "print(bad_files_2)\n",
    "print(len(bad_files_2))"
   ]
  },
  {
   "cell_type": "markdown",
   "metadata": {},
   "source": [
    "Third Iteration to filter format 3"
   ]
  },
  {
   "cell_type": "code",
   "execution_count": 10,
   "metadata": {},
   "outputs": [],
   "source": [
    "bad_files_3 = []\n",
    "format_3_files = []\n",
    "for name in bad_files_2:\n",
    "    soup = BeautifulSoup(open(f'./PJ-Dataset-html/{name}', encoding='latin').read(), 'html.parser')\n",
    "    div = soup.findAll('span', attrs= {'class':'code_chat'})\n",
    "\n",
    "    for d in div:\n",
    "        lines = str(d).split('<br />')\n",
    "        lines = '\\n'.join([x.strip() for x in lines if 'PM: ' in x])\n",
    "        replaces = re.findall('<^>*>', lines)\n",
    "        for r in replaces:\n",
    "                lines = lines.replace(r, '')\n",
    "        if 'PM]' in lines:\n",
    "            lines = lines.replace('PM]', 'PM|')\n",
    "            lines = lines.replace(' [', '|')\n",
    "        if 'PM)' in lines:\n",
    "            lines = lines.replace('PM): ', 'PM)|')\n",
    "            lines = lines.replace(' (', '|(')\n",
    "        # print(lines)\n",
    "    try:\n",
    "        pd.read_csv(StringIO(lines), sep='|', header=None)\n",
    "        file = open(f'./PJ_cleaned/{name.split(\".\")[0]}.csv', 'w')\n",
    "        file.writelines(lines)\n",
    "        file.close()\n",
    "        format_3_files.append(name)\n",
    "    except:\n",
    "        bad_files_3.append(name)\n",
    "        continue"
   ]
  },
  {
   "cell_type": "code",
   "execution_count": 11,
   "metadata": {},
   "outputs": [
    {
     "name": "stdout",
     "output_type": "stream",
     "text": [
      "Successfully Cleaned 37%: 236/624\n"
     ]
    }
   ],
   "source": [
    "cln = len(os.listdir('./PJ_cleaned/'))\n",
    "all = len(os.listdir('./PJ-Dataset-html/'))\n",
    "print(f'Successfully Cleaned {int((cln/all)*100)}%: {cln}/{all}')"
   ]
  },
  {
   "cell_type": "code",
   "execution_count": 12,
   "metadata": {},
   "outputs": [
    {
     "name": "stdout",
     "output_type": "stream",
     "text": [
      "['Army_dude1982.htm', 'ProtegeES2002.htm', 'Stylelisticgrooves.htm', 'fleet_captain_jaime_wolfe.htm', 'ryan4686.htm', 'icepirate53.htm', 'Assfider.htm', 'Oberon318.htm', 'warreng68.htm', 'Arthinice.htm', 'juggalo4lifesuckas.htm', 'quin_says.htm', 'flxnonya.htm', 'phil29ct.htm', 'jaydan0033.htm', 'cookingman65.htm', 'Trianglelover.htm', 'usnavyrules2005.htm', 'Mountaindew63401.htm', 'banditcapt71.htm', 'Markiemarcc.htm', 'deaf1_one.htm', 'Daveeatsyou.htm', 'onelstsoul.htm', 'Slikesw.htm', 'KCROWOO.htm', 'Steve_steve875.htm', 'tim_myers3.htm', 'Justinnbos.htm', 'hum_366.htm', 'JDC074andSgpsmalaysia.htm', 'manofdarkneedsl951.htm', 'texassailor04.htm', 'goodguyportsmouthva.htm', 'WBSooner.htm', 'novamike30.htm', 'SpecialGuy29.htm', 'navyboy_usn.htm', 'Tucsftcoach.htm', 'trying_2b_normal.htm', 'daydreamez69.htm', 'GoodBoyB88.htm', 'ginty77.htm', 'sweet_jason002.htm', 'jubjub970.htm', 'highplainsrider20002000.htm', 'pedro70001976.htm', 'changeforthebetter2006.htm', 'milw_male2002.htm', 'REDBD.htm', 'grassman334_bigracingfan898.htm1', 'thomascoffen.htm', 'ndbaseballstudd_ndbaseballstudd10.htm', 'jmv91373.htm', 'bluegrizzly32.htm', 'fargo1982.htm', 'singletxguyforfun.htm', 'laybay343.htm', 'jazzeman04.htm', 'johnchess2000.htm', 'stoned_party.htm', 'lowvoltage18.htm', 'i_luv_the_putay.htm', 'ich_bin_der_eggman_67.htm', 'Blandmtthw.htm', 'aticloose.htm', 'florida_in_miami.htm', 'Simpatico174.htm', 'shinelfmc2005.htm', 'meatrocket8.htm', 'fightingfalconsguy.htm', 'crackspackler200.htm', 'mygsr1.htm', 'JungleMania20050.htm', 'docman_818.htm', 'manflooking4sexwithladymoorheadf.htm', 'daytona02.htm', 'mxracer_126.htm', 'baddboyysweetheart.htm', 'Curvedforherpleasure.htm', 'godofwineof3eb.htm', 'solepleaser.htm', 'your_lil_nene.htm', 'welfare_isforwhitefolks.htm', 'greeneyed121.htm', 'ricks_talented_tongue.htm', 'jay1oc.htm', 'residentsmith.htm', 'needafriendtotalkto2005.htm', 'broken_empires.htm', 'hiexcitement.htm', 'roger4450.htm', 'kydaddyalone.htm', 'x_cums_in_the_night_x.htm', 'dick_hungwell64.htm', 'bearinwolfsfur.htm', 'Dsswinney.htm', 'HAIRYONE4U.htm', 'jaime2002_22.htm', 'DonCeech.htm', 'hardblackdick.htm', 'dtwnsd.htm', 'ndguy58746.htm', 'bravesfan34581.htm', 'zavior01.htm', 'lee_greer74.htm', 'sugardavis.htm', 'tafatiw2006.htm', 'marriedandlookingforfun31313.htm', 'Printo316.htm', 'nismo05007.htm', 'groehrig123.htm', 'brian_e024.htm', 'b318ti.htm', 'iurutherford.htm', 'jc_bah.htm', 'pitbulldavid2001_caliguy4u_2005.htm', 'boosted_hollyjack.htm', 'WrghtrAlcm.htm', 'fuddster88.htm', 'pol_clemente.htm', 'scoobydooatl01.htm', 'southbayguy310.htm', 'ben_taul2000.htm', 'eveready122.htm', 'bpvmo.htm', 'lookinfforsex_fishman1192002.htm', 'jbrian1964.htm', 'toddgetrdone.htm', 'Devilzombie13.htm', 'Wulfker_Dragonslayer.htm', 'strega_num_7.htm', 'Pavlov1234.htm', 'strongman5577.htm', 'tofast4yall2003.htm', 'sst83.htm', 'rauch_jim.htm', 'restchoice2000.htm', 'green_eye_latino669.htm', 'jlh3120.htm', 'vipper_131.htm', 'tim41607.htm', 'burtoncanyon1732002.htm', 'Antitrust40242.htm', 'readyto_fck.htm', 'hk_sf_hi.htm', 'sunrise_sunset66.htm', 'hotntastymale.htm', 'smileman74.htm', 'daddywants2playnokc.htm', 'chrispy967.htm', 'pete_wood11.htm', 'augustadude2004.htm', 'ArmySgt1961.htm', 'Truesweetguy69.htm', 'manontherun45.htm', 'rn_buzzkiller2003.htm', 'funjxn1.htm', 'chicago_naperville.htm', 'swgamaleyess.htm', 'stephen_tanner69.htm', 'goodguy1958.htm', 'mjn_523.htm', 'daddy_needs_slave.htm', 'dveightus.htm', 'Jimster7.htm', 'boxbody00.htm', 'jtwant2play.htm', 'CrazyTrini85.htm', 'mansfield_tiger2007.htm', 'OSU_Cowboy_24.htm', 'c_meandu.htm', 'dogshowsifudo.htm', 'sadjack96.htm', 'usta_tennis.htm', 'cooperisaaca.htm', 'Indianahighroller.htm', 'audavideo_visualistener.htm', 'terubble33.htm', 'bigdaddy68iou1.htm', 'dsalyers167.htm', 'Curt350.htm', 'lovesoral54956.htm', 'User194547.htm', 'tennisboy213.htm', 'dragonrage613.htm', 'Naproxin.htm', 'sweet_jay83.htm', 'dicksobig69.htm', 'tim_arthur2001.htm', 'olgdaddy611.htm', 'willeycoyote41.htm', 'jkspeedster0112.htm', 'shinster007.htm', 'bandit8077.htm', 'mknight322.htm', 'deirules83.htm', 'bald_beaver_hunter42025.htm', 'wrestlingdudeeasttn.htm', 'venom8518.htm', 'thicklongfunone_augustfunone07.htm', 'notjustanotherncguy.htm', 'sjklanke.htm', 'ekoplaya20.htm', 'lil_dyprd_baby.htm', 'ericthebige2005_WellEndowedEric.htm', 'OjaiRadDad.htm', 'daniel_pulido78.htm', 'jarobert24.htm', 'stevetakespix_uconnbluenwhite_rickspics2006.htm', 'sahilmittal123.htm', 'lorne_a_20014.htm', 'greg_lovette33.htm', 'bwblueeyes04.htm', 'tophat106.htm', 'blkstallionfourwladies.htm', 'bloodlineofhate.htm', 'whosurdaddynj.htm', 'steamerboyddc1.htm', 'cheren03.htm', 'schutzea.htm', 'jon_mark7.htm', 'MatrixJB84.htm', 'whos_your_daddy69_99.htm', 'double_102000.htm', 'thenewperson62.htm', 'atx_muffdiver_austinphantom.htm', 'jefe6.htm', 'cuteguyinoc2002.htm', 'sean_lee53.htm', 'celica7000.htm', 'awaltherslong.htm', 'davetalbot654.htm', 'thedude420xxx.htm', 'love_is_taj.htm', 'red387peter.htm', 'six_pack_so_calif.htm', 'e_rectedmale.htm', 'daddyreyes062000.htm', 'icetruckkiller103.htm', 'jmkosis.htm', 'javiermacias84.htm', 'derbear72.htm', 'kuzzoo61.htm', 'steelmanoo.htm', 'ecwesh.htm', 'korn76_99.htm', 'fredold_2000.htm', 'nadd556.htm', 'marriedbutlonelyguy_warped_1701d.htm', 'nampamale1958.htm', 'm4pixeleen.htm', 'pal03_2004.htm', 'ljjl_9999.htm', 'jason24829.htm', 'billy_williams65.htm', 'cutechillicotheguy.htm', 'photofrog1962.htm', 'jackson39211wm.htm', 'rayray121980.htm', 'majordude200.htm', 'chawpie.htm', 'nevada_bum.htm', 'ps3player178.htm', 'garycincinnati.htm', 'freebird_72000.htm', 'kutepadude4u27.htm', 'mr_emmert.htm', 'trustnooneeveryonesfake.htm', 'LustfulSucker.htm', 'kardassian_2.htm', 'hd88399.htm', 'rk63s2000.htm', 'cobbler1976.htm', 'boywonder832.htm', 'cheaperthanawornoutpairofconvers.htm', 'bronx42162.htm', 'har_a_lee.htm', 'bs9875327.htm', 'tulsapunker92_chrisidleone_ardmorewarrior1999.htm', 'loverboy212x.htm', 'njdavenj1.htm', 'talldreamy_doc.htm', 'cantonguy4fun_cantonguylookin.htm', 'philosophyguy2003.htm', 'Hibuddywazsup.htm', 'figwithbqe.htm', 'RknRllAnml.htm', 'funindia31.htm', 'peter2033.htm', 'michigan19602000.htm', 'shoelessdaishi.htm', 'rentalmaninpeoria.htm', 'mr_b_jones2.htm', 'detfreak99.htm', 'greg_green98.htm', 'luvs2eaturpeach.htm', 'jtg7784_tracyg7577.htm', 'michguyhere.htm', 'enjoy97601.htm', 'sjw632001.htm', 'cybertoy02.htm', 'kaz4541.htm', 'niceguy4u810.htm', 'kissmytickle.htm', 'jpeterdk2000.htm', 'bmars1411_skydivescout82.htm', 'mikeman7828.htm', 'starman542000.htm', 'duuderm.htm', 'mrk_youngblood.htm', 'jeremykeister.htm', 'gavy_nakai.htm', 'hungindian_09.htm', 'justinawashcock.htm', 'tito_92503.htm', 'marine_with_hard_cock.htm', 'Chaznd74_Chaznd1974.htm', 'hel_bomber.htm', 'malhotra_mohit.htm', 'geo_allino.htm', 'hckywingnut2000.htm', 'charlie_e44.htm', 'Salsakewl.htm', 'theoldmonk_4_all.htm', 'mesadash8pilot.htm', 'atlanta_italian.htm', 'south_calif_46m.htm', 'okape40.htm', 'n_karov.htm', 'herrhollrah_unlistedunseen.htm', 'orl00fun.htm', 'dukered2000.htm', 'h_k43232.htm', 'cowboymason2000.htm', 'vanishing150_jayolla21.htm', 'jaguarsd69.htm', 'aggresk8er.htm', 'cseli606.htm', 'philknowlan.htm', 'ems51842002.htm', 'jeff_fisher94.htm', 'prcvegas10.htm', 'georgia_emti.htm', 'BillyJoe.htm', 'wookinpanub420.htm', 'jakelewis315.htm', 'krazythug_692000.htm', 'raidersdawg5.htm', 'koolkrod16.htm', 'lovesource7.htm', 'kckboxer18.htm', 'dhaval_bharucha.htm', 'jlucero155.htm', 'allenriley2011.htm', 'kashkhan773.htm', 'jinxman555.htm', 'christopher_brown1991.htm', 'jjj_200925.htm', 'F_C.htm', 'bossofct.htm', 'Clayton_Dickerson.htm', 'crazy_town_4_2_0.htm', 'tory_beltz.htm', 'chrisnr1998.htm', 'innocentz6197.htm', 'Carlos_Cabrera.htm', 'john_adamowski.htm', 'Ryan_Thompson.htm', 'Rudy_Lee.htm', 'paulcarder86.htm', 'trvlinguy.htm', 'lvamf5454.htm', 'louisianamaster1983.htm', 'georgiamike1968.htm', 'obercock1985.htm', 'mg0942 .htm', 'Kent_Grant.htm', 'luv2licku68.htm', 'Josh_Mcclendon.htm', 'Nice_Guy.htm', 'DB.htm', 'Zachery.htm', 'jackjohnsons7.htm']\n",
      "384\n"
     ]
    }
   ],
   "source": [
    "print(bad_files_3)\n",
    "print(len(bad_files_3))"
   ]
  }
 ],
 "metadata": {
  "kernelspec": {
   "display_name": "satc-venv",
   "language": "python",
   "name": "python3"
  },
  "language_info": {
   "codemirror_mode": {
    "name": "ipython",
    "version": 3
   },
   "file_extension": ".py",
   "mimetype": "text/x-python",
   "name": "python",
   "nbconvert_exporter": "python",
   "pygments_lexer": "ipython3",
   "version": "3.9.16"
  }
 },
 "nbformat": 4,
 "nbformat_minor": 2
}
