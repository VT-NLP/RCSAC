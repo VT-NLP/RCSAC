{
 "cells": [
  {
   "cell_type": "code",
   "execution_count": 1,
   "metadata": {},
   "outputs": [],
   "source": [
    "import re\n",
    "import os\n",
    "from io import StringIO\n",
    "import pandas as pd\n",
    "from bs4 import BeautifulSoup"
   ]
  },
  {
   "cell_type": "markdown",
   "metadata": {},
   "source": [
    "## First iteration to filter format 1"
   ]
  },
  {
   "cell_type": "code",
   "execution_count": 2,
   "metadata": {},
   "outputs": [],
   "source": [
    "bad_files = []\n",
    "format_1_files = []\n",
    "for name in os.listdir('./PJ-Dataset-html'):\n",
    "    if '.htm' in name:\n",
    "        soup = BeautifulSoup(open(f'./PJ-Dataset-html/{name}', encoding='latin').read(), 'html.parser')\n",
    "\n",
    "        div = soup.findAll('span', attrs= {'class':'code_chat'})\n",
    "        # print(div)\n",
    "        # lines = div[0].type\n",
    "        convo = \"\"\n",
    "        for d in div:\n",
    "            inst = \"\"\n",
    "            for lin in str(d).split('\\n'):\n",
    "                lin = lin.strip()\n",
    "                \n",
    "                # insert the beginning delimeter before date/time\n",
    "                ii = lin.find('(')\n",
    "                lin = lin[:ii-1] + '|' + lin[ii:]\n",
    "                \n",
    "                lin = lin.replace('M): ', 'M)|')\n",
    "                replaces = re.findall('(<[^>]*>)', lin)\n",
    "                # print(replaces)\n",
    "                for r in replaces:\n",
    "                    lin = lin.replace(r, '')\n",
    "\n",
    "                #print(lin)\n",
    "                if lin != '':\n",
    "                    inst += lin + \"\\n\"\n",
    "                \n",
    "            convo += inst\n",
    "        \n",
    "        try:\n",
    "            pd.read_csv(StringIO(convo), sep='|', header=None)\n",
    "\n",
    "            file = open(f'./PJ_cleaned/{name.split(\".\")[0]}.csv', 'w')\n",
    "            file.writelines(convo)\n",
    "            file.close()\n",
    "            format_1_files.append(name)\n",
    "        except:\n",
    "            bad_files.append(name)\n",
    "            continue\n"
   ]
  },
  {
   "cell_type": "code",
   "execution_count": 3,
   "metadata": {},
   "outputs": [
    {
     "name": "stdout",
     "output_type": "stream",
     "text": [
      "Successfully Cleaned 36%: 226/624\n"
     ]
    }
   ],
   "source": [
    "cln = len(os.listdir('./PJ_cleaned/'))\n",
    "all = len(os.listdir('./PJ-Dataset-html/'))\n",
    "print(f'Successfully Cleaned {int((cln/all)*100)}%: {cln}/{all}')"
   ]
  },
  {
   "cell_type": "code",
   "execution_count": 32,
   "metadata": {},
   "outputs": [
    {
     "name": "stdout",
     "output_type": "stream",
     "text": [
      "['Adamou217.htm', 'aggresk8er.htm', 'allenriley2011.htm', 'Antitrust40242.htm', 'ArmySgt1961.htm', 'Army_dude1982.htm', 'Arthinice.htm', 'Assfider.htm', 'aticloose.htm', 'atlanta_italian.htm', 'atx_muffdiver_austinphantom.htm', 'audavideo_visualistener.htm', 'augustadude2004.htm', 'awaltherslong.htm', 'b318ti.htm', 'baddboyysweetheart.htm', 'bald_beaver_hunter42025.htm', 'bandit8077.htm', 'banditcapt71.htm', 'bearinwolfsfur.htm', 'ben_taul2000.htm', 'bigdaddy68iou1.htm', 'BillyJoe.htm', 'billy_williams65.htm', 'Blandmtthw.htm', 'blkstallionfourwladies.htm', 'bloodlineofhate.htm', 'bluegrizzly32.htm', 'bmars1411_skydivescout82.htm', 'boosted_hollyjack.htm', 'bossofct.htm', 'boxbody00.htm', 'boywonder832.htm', 'bpvmo.htm', 'bravesfan34581.htm', 'brian_e024.htm', 'broken_empires.htm', 'bronx42162.htm', 'bs9875327.htm', 'burtoncanyon1732002.htm', 'bwblueeyes04.htm', 'cantonguy4fun_cantonguylookin.htm', 'Carlos_Cabrera.htm', 'celica7000.htm', 'changeforthebetter2006.htm', 'charlie_e44.htm', 'chawpie.htm', 'Chaznd74_Chaznd1974.htm', 'cheaperthanawornoutpairofconvers.htm', 'cheren03.htm', 'chicago_naperville.htm', 'chrisnr1998.htm', 'chrispy967.htm', 'christopher_brown1991.htm', 'Clayton_Dickerson.htm', 'cobbler1976.htm', 'cookingman65.htm', 'cooperisaaca.htm', 'cowboymason2000.htm', 'crackspackler200.htm', 'CrazyTrini85.htm', 'crazy_town_4_2_0.htm', 'cseli606.htm', 'Curt350.htm', 'Curvedforherpleasure.htm', 'cutechillicotheguy.htm', 'cuteguyinoc2002.htm', 'cybertoy02.htm', 'c_meandu.htm', 'daddyreyes062000.htm', 'daddywants2playnokc.htm', 'daddy_needs_slave.htm', 'daniel_pulido78.htm', 'dave40962.htm', 'Daveeatsyou.htm', 'davetalbot654.htm', 'daydreamez69.htm', 'daytona02.htm', 'DB.htm', 'dckroll.htm1', 'deaf1_one.htm', 'deirules83.htm', 'derbear72.htm', 'detfreak99.htm', 'Devilzombie13.htm', 'dhaval_bharucha.htm', 'dicksobig69.htm', 'dick_hungwell64.htm', 'docman_818.htm', 'dogshowsifudo.htm', 'DonCeech.htm', 'double_102000.htm', 'dragonrage613.htm', 'dsalyers167.htm', 'Dsswinney.htm', 'dtwnsd.htm', 'dukered2000.htm', 'duuderm.htm', 'dveightus.htm', 'ecwesh.htm', 'ekoplaya20.htm', 'ems51842002.htm', 'enjoy97601.htm', 'ericthebige2005_WellEndowedEric.htm', 'eveready122.htm', 'e_rectedmale.htm', 'fargo1982.htm', 'fightingfalconsguy.htm', 'figwithbqe.htm', 'fleet_captain_jaime_wolfe.htm', 'florida_in_miami.htm', 'flxnonya.htm', 'fredold_2000.htm', 'freebird_72000.htm', 'fuddster88.htm', 'funindia31.htm', 'funjxn1.htm', 'F_C.htm', 'garycincinnati.htm', 'gavy_nakai.htm', 'georgiamike1968.htm', 'georgia_emti.htm', 'geo_allino.htm', 'ginty77.htm', 'godofwineof3eb.htm', 'GoodBoyB88.htm', 'goodguy1958.htm', 'goodguyportsmouthva.htm', 'grassman334_bigracingfan898.htm1', 'greeneyed121.htm', 'green_eye_latino669.htm', 'greg_green98.htm', 'greg_lovette33.htm', 'groehrig123.htm', 'HAIRYONE4U.htm', 'hardblackdick.htm', 'har_a_lee.htm', 'hckywingnut2000.htm', 'hd88399.htm', 'hel_bomber.htm', 'herrhollrah_unlistedunseen.htm', 'Hibuddywazsup.htm', 'hiexcitement.htm', 'highplainsrider20002000.htm', 'hk_sf_hi.htm', 'hotntastymale.htm', 'hum_366.htm', 'hungindian_09.htm', 'h_k43232.htm', 'icepirate53.htm', 'icetruckkiller103.htm', 'ich_bin_der_eggman_67.htm', 'Indianahighroller.htm', 'innocentz6197.htm', 'iurutherford.htm', 'i_luv_the_putay.htm', 'jackjohnsons7.htm', 'jackson39211wm.htm', 'jaguarsd69.htm', 'jaime2002_22.htm', 'jakelewis315.htm', 'jarobert24.htm', 'jason24829.htm', 'javiermacias84.htm', 'jay1oc.htm', 'jaydan0033.htm', 'jazzeman04.htm', 'jbrian1964.htm', 'jc_bah.htm', 'JDC074andSgpsmalaysia.htm', 'jefe6.htm', 'jeff_fisher94.htm', 'jeremykeister.htm', 'Jimster7.htm', 'jinxman555.htm', 'jjj_200925.htm', 'jkspeedster0112.htm', 'jlh3120.htm', 'jlucero155.htm', 'jmkosis.htm', 'jmv91373.htm', 'johnchess2000.htm', 'john_adamowski.htm', 'jon_mark7.htm', 'Josh_Mcclendon.htm', 'jpeterdk2000.htm', 'jtg7784_tracyg7577.htm', 'jtwant2play.htm', 'jubjub970.htm', 'juggalo4lifesuckas.htm', 'JungleMania20050.htm', 'justinawashcock.htm', 'Justinnbos.htm', 'kardassian_2.htm', 'kashkhan773.htm', 'kaz4541.htm', 'kckboxer18.htm', 'KCROWOO.htm', 'Kent_Grant.htm', 'kissmytickle.htm', 'koolkrod16.htm', 'korn76_99.htm', 'krazythug_692000.htm', 'kutepadude4u27.htm', 'kuzzoo61.htm', 'kydaddyalone.htm', 'laybay343.htm', 'lee_greer74.htm', 'lil_dyprd_baby.htm', 'ljjl_9999.htm', 'lookinfforsex_fishman1192002.htm', 'lorne_a_20014.htm', 'louisianamaster1983.htm', 'loverboy212x.htm', 'lovesoral54956.htm', 'lovesource7.htm', 'love_is_taj.htm', 'lowvoltage18.htm', 'LustfulSucker.htm', 'luv2licku68.htm', 'luvs2eaturpeach.htm', 'lvamf5454.htm', 'm4pixeleen.htm', 'magic4isl2002.htm', 'majordude200.htm', 'makavelli_of_lewiston.htm', 'malhotra_mohit.htm', 'manflooking4sexwithladymoorheadf.htm', 'manofdarkneedsl951.htm', 'manontherun45.htm', 'mansfield_tiger2007.htm', 'marine_with_hard_cock.htm', 'Markiemarcc.htm', 'marriedandlookingforfun31313.htm', 'marriedbutlonelyguy_warped_1701d.htm', 'MatrixJB84.htm', 'meatrocket8.htm', 'mesadash8pilot.htm', 'mg0942 .htm', 'mibbbboy.htm', 'michguyhere.htm', 'michigan19602000.htm', 'mikeman7828.htm', 'milw_male2002.htm', 'mjn_523.htm', 'mknight322.htm', 'Mountaindew63401.htm', 'mrk_youngblood.htm', 'mr_b_jones2.htm', 'mr_emmert.htm', 'mxracer_126.htm', 'mygsr1.htm', 'nadd556.htm', 'nampamale1958.htm', 'Naproxin.htm', 'navyboy_usn.htm', 'ndbaseballstudd_ndbaseballstudd10.htm', 'ndguy58746.htm', 'needafriendtotalkto2005.htm', 'nevada_bum.htm', 'niceguy4u810.htm', 'Nice_Guy.htm', 'nismo05007.htm', 'njdavenj1.htm', 'notjustanotherncguy.htm', 'novamike30.htm', 'n_karov.htm', 'obercock1985.htm', 'Oberon318.htm', 'OjaiRadDad.htm', 'okape40.htm', 'olgdaddy611.htm', 'onelstsoul.htm', 'orl00fun.htm', 'OSU_Cowboy_24.htm', 'pal03_2004.htm', 'paulcarder86.htm', 'Pavlov1234.htm', 'pedro70001976.htm', 'peter2033.htm', 'pete_wood11.htm', 'phil29ct.htm', 'philknowlan.htm', 'philosophyguy2003.htm', 'photofrog1962.htm', 'pitbulldavid2001_caliguy4u_2005.htm', 'pol_clemente.htm', 'prcvegas10.htm', 'Printo316.htm', 'ProtegeES2002.htm', 'ps3player178.htm', 'quin_says.htm', 'QX4Boi19.htm', 'raidersdawg5.htm', 'rauch_jim.htm', 'rayray121980.htm', 'readyto_fck.htm', 'red387peter.htm', 'REDBD.htm', 'rentalmaninpeoria.htm', 'residentsmith.htm', 'restchoice2000.htm', 'ricks_talented_tongue.htm', 'rk63s2000.htm', 'RknRllAnml.htm', 'rn_buzzkiller2003.htm', 'roger4450.htm', 'Rudy_Lee.htm', 'ryan4686.htm', 'Ryan_Thompson.htm', 'sadjack96.htm', 'sahilmittal123.htm', 'Salsakewl.htm', 'schutzea.htm', 'scoobydooatl01.htm', 'sean_lee53.htm', 'sebastian_for_u.htm', 'SetOnMyShaft.htm', 'shinelfmc2005.htm', 'shinster007.htm', 'shoelessdaishi.htm', 'Simpatico174.htm', 'singletxguyforfun.htm', 'six_pack_so_calif.htm', 'sjklanke.htm', 'sjw632001.htm', 'Slikesw.htm', 'smileman74.htm', 'Socal128.htm', 'solepleaser.htm', 'southbayguy310.htm', 'south_calif_46m.htm', 'SpecialGuy29.htm', 'sst83.htm', 'starman542000.htm', 'steamerboyddc1.htm', 'steelmanoo.htm', 'stephen_tanner69.htm', 'stevetakespix_uconnbluenwhite_rickspics2006.htm', 'Steve_steve875.htm', 'stoned_party.htm', 'strega_num_7.htm', 'strongman5577.htm', 'Stylelisticgrooves.htm', 'sugardavis.htm', 'sunrise_sunset66.htm', 'sweet_jason002.htm', 'sweet_jay83.htm', 'swgamaleyess.htm', 'tafatiw2006.htm', 'talldreamy_doc.htm', 'tennisboy213.htm', 'terubble33.htm', 'texassailor04.htm', 'thedude420xxx.htm', 'thenewperson62.htm', 'theoldmonk_4_all.htm', 'thicklongfunone_augustfunone07.htm', 'thomascoffen.htm', 'tim41607.htm', 'tim_arthur2001.htm', 'tim_myers3.htm', 'tito_92503.htm', 'toddgetrdone.htm', 'tofast4yall2003.htm', 'tophat106.htm', 'tory_beltz.htm', 'Trianglelover.htm', 'Truesweetguy69.htm', 'trustnooneeveryonesfake.htm', 'trvlinguy.htm', 'trying_2b_normal.htm', 'Tucsftcoach.htm', 'tulsapunker92_chrisidleone_ardmorewarrior1999.htm', 'User194547.htm', 'usnavyrules2005.htm', 'usta_tennis.htm', 'vanishing150_jayolla21.htm', 'venom8518.htm', 'vipper_131.htm', 'warreng68.htm', 'WBSooner.htm', 'WebDev2.htm', 'welfare_isforwhitefolks.htm', 'whosurdaddynj.htm', 'whos_your_daddy69_99.htm', 'willeycoyote41.htm', 'wookinpanub420.htm', 'wrestlingdudeeasttn.htm', 'WrghtrAlcm.htm', 'Wulfker_Dragonslayer.htm', 'x_cums_in_the_night_x.htm', 'your_lil_nene.htm', 'Zachery.htm', 'zavior01.htm']\n",
      "395\n"
     ]
    }
   ],
   "source": [
    "print(bad_files)\n",
    "print(len(bad_files))"
   ]
  },
  {
   "cell_type": "markdown",
   "metadata": {},
   "source": [
    "## Second iteration to filter format 2"
   ]
  },
  {
   "cell_type": "code",
   "execution_count": 34,
   "metadata": {},
   "outputs": [],
   "source": [
    "bad_files_2 = []\n",
    "format_2_files = []\n",
    "for name in bad_files:\n",
    "    soup = BeautifulSoup(open(f'./PJ-Dataset-html/{name}', encoding='latin').read(), 'html.parser')\n",
    "    div = soup.findAll('span', attrs= {'class':'code_chat'})\n",
    "\n",
    "    for d in div:\n",
    "        lines = str(d).split('<br/>')\n",
    "        lines = '\\n'.join([x.strip() for x in lines if 'PM: ' in x])\n",
    "        replaces = re.findall('(<[^>]*>)', lines)\n",
    "        for r in replaces:\n",
    "                lines = lines.replace(r, '')\n",
    "        lines = lines.replace('PM: {', 'PM|')\n",
    "        lines = lines.replace('}', '|')\n",
    "        # print(lines)\n",
    "    try:\n",
    "        pd.read_csv(StringIO(lines), sep='|', header=None)\n",
    "        file = open(f'./PJ_cleaned/{name.split(\".\")[0]}.csv', 'w')\n",
    "        file.writelines(lines)\n",
    "        file.close()\n",
    "        format_2_files.append(name)\n",
    "    except:\n",
    "        bad_files_2.append(name)\n",
    "        continue"
   ]
  },
  {
   "cell_type": "code",
   "execution_count": 35,
   "metadata": {},
   "outputs": [
    {
     "name": "stdout",
     "output_type": "stream",
     "text": [
      "Successfully Cleaned 37%: 235/624\n"
     ]
    }
   ],
   "source": [
    "cln = len(os.listdir('./PJ_cleaned/'))\n",
    "all = len(os.listdir('./PJ-Dataset-html/'))\n",
    "print(f'Successfully Cleaned {int((cln/all)*100)}%: {cln}/{all}')"
   ]
  },
  {
   "cell_type": "code",
   "execution_count": 36,
   "metadata": {},
   "outputs": [
    {
     "name": "stdout",
     "output_type": "stream",
     "text": [
      "['Adamou217.htm', 'dckroll.htm1', 'mibbbboy.htm', 'michguyhere.htm', 'QX4Boi19.htm', 'SetOnMyShaft.htm', 'WebDev2.htm', 'welfare_isforwhitefolks.htm']\n"
     ]
    }
   ],
   "source": [
    "print(format_2_files)"
   ]
  },
  {
   "cell_type": "code",
   "execution_count": 37,
   "metadata": {},
   "outputs": [
    {
     "name": "stdout",
     "output_type": "stream",
     "text": [
      "['aggresk8er.htm', 'allenriley2011.htm', 'Antitrust40242.htm', 'ArmySgt1961.htm', 'Army_dude1982.htm', 'Arthinice.htm', 'Assfider.htm', 'aticloose.htm', 'atlanta_italian.htm', 'atx_muffdiver_austinphantom.htm', 'audavideo_visualistener.htm', 'augustadude2004.htm', 'awaltherslong.htm', 'b318ti.htm', 'baddboyysweetheart.htm', 'bald_beaver_hunter42025.htm', 'bandit8077.htm', 'banditcapt71.htm', 'bearinwolfsfur.htm', 'ben_taul2000.htm', 'bigdaddy68iou1.htm', 'BillyJoe.htm', 'billy_williams65.htm', 'Blandmtthw.htm', 'blkstallionfourwladies.htm', 'bloodlineofhate.htm', 'bluegrizzly32.htm', 'bmars1411_skydivescout82.htm', 'boosted_hollyjack.htm', 'bossofct.htm', 'boxbody00.htm', 'boywonder832.htm', 'bpvmo.htm', 'bravesfan34581.htm', 'brian_e024.htm', 'broken_empires.htm', 'bronx42162.htm', 'bs9875327.htm', 'burtoncanyon1732002.htm', 'bwblueeyes04.htm', 'cantonguy4fun_cantonguylookin.htm', 'Carlos_Cabrera.htm', 'celica7000.htm', 'changeforthebetter2006.htm', 'charlie_e44.htm', 'chawpie.htm', 'Chaznd74_Chaznd1974.htm', 'cheaperthanawornoutpairofconvers.htm', 'cheren03.htm', 'chicago_naperville.htm', 'chrisnr1998.htm', 'chrispy967.htm', 'christopher_brown1991.htm', 'Clayton_Dickerson.htm', 'cobbler1976.htm', 'cookingman65.htm', 'cooperisaaca.htm', 'cowboymason2000.htm', 'crackspackler200.htm', 'CrazyTrini85.htm', 'crazy_town_4_2_0.htm', 'cseli606.htm', 'Curt350.htm', 'Curvedforherpleasure.htm', 'cutechillicotheguy.htm', 'cuteguyinoc2002.htm', 'cybertoy02.htm', 'c_meandu.htm', 'daddyreyes062000.htm', 'daddywants2playnokc.htm', 'daddy_needs_slave.htm', 'daniel_pulido78.htm', 'dave40962.htm', 'Daveeatsyou.htm', 'davetalbot654.htm', 'daydreamez69.htm', 'daytona02.htm', 'DB.htm', 'deaf1_one.htm', 'deirules83.htm', 'derbear72.htm', 'detfreak99.htm', 'Devilzombie13.htm', 'dhaval_bharucha.htm', 'dicksobig69.htm', 'dick_hungwell64.htm', 'docman_818.htm', 'dogshowsifudo.htm', 'DonCeech.htm', 'double_102000.htm', 'dragonrage613.htm', 'dsalyers167.htm', 'Dsswinney.htm', 'dtwnsd.htm', 'dukered2000.htm', 'duuderm.htm', 'dveightus.htm', 'ecwesh.htm', 'ekoplaya20.htm', 'ems51842002.htm', 'enjoy97601.htm', 'ericthebige2005_WellEndowedEric.htm', 'eveready122.htm', 'e_rectedmale.htm', 'fargo1982.htm', 'fightingfalconsguy.htm', 'figwithbqe.htm', 'fleet_captain_jaime_wolfe.htm', 'florida_in_miami.htm', 'flxnonya.htm', 'fredold_2000.htm', 'freebird_72000.htm', 'fuddster88.htm', 'funindia31.htm', 'funjxn1.htm', 'F_C.htm', 'garycincinnati.htm', 'gavy_nakai.htm', 'georgiamike1968.htm', 'georgia_emti.htm', 'geo_allino.htm', 'ginty77.htm', 'godofwineof3eb.htm', 'GoodBoyB88.htm', 'goodguy1958.htm', 'goodguyportsmouthva.htm', 'grassman334_bigracingfan898.htm1', 'greeneyed121.htm', 'green_eye_latino669.htm', 'greg_green98.htm', 'greg_lovette33.htm', 'groehrig123.htm', 'HAIRYONE4U.htm', 'hardblackdick.htm', 'har_a_lee.htm', 'hckywingnut2000.htm', 'hd88399.htm', 'hel_bomber.htm', 'herrhollrah_unlistedunseen.htm', 'Hibuddywazsup.htm', 'hiexcitement.htm', 'highplainsrider20002000.htm', 'hk_sf_hi.htm', 'hotntastymale.htm', 'hum_366.htm', 'hungindian_09.htm', 'h_k43232.htm', 'icepirate53.htm', 'icetruckkiller103.htm', 'ich_bin_der_eggman_67.htm', 'Indianahighroller.htm', 'innocentz6197.htm', 'iurutherford.htm', 'i_luv_the_putay.htm', 'jackjohnsons7.htm', 'jackson39211wm.htm', 'jaguarsd69.htm', 'jaime2002_22.htm', 'jakelewis315.htm', 'jarobert24.htm', 'jason24829.htm', 'javiermacias84.htm', 'jay1oc.htm', 'jaydan0033.htm', 'jazzeman04.htm', 'jbrian1964.htm', 'jc_bah.htm', 'JDC074andSgpsmalaysia.htm', 'jefe6.htm', 'jeff_fisher94.htm', 'jeremykeister.htm', 'Jimster7.htm', 'jinxman555.htm', 'jjj_200925.htm', 'jkspeedster0112.htm', 'jlh3120.htm', 'jlucero155.htm', 'jmkosis.htm', 'jmv91373.htm', 'johnchess2000.htm', 'john_adamowski.htm', 'jon_mark7.htm', 'Josh_Mcclendon.htm', 'jpeterdk2000.htm', 'jtg7784_tracyg7577.htm', 'jtwant2play.htm', 'jubjub970.htm', 'juggalo4lifesuckas.htm', 'JungleMania20050.htm', 'justinawashcock.htm', 'Justinnbos.htm', 'kardassian_2.htm', 'kashkhan773.htm', 'kaz4541.htm', 'kckboxer18.htm', 'KCROWOO.htm', 'Kent_Grant.htm', 'kissmytickle.htm', 'koolkrod16.htm', 'korn76_99.htm', 'krazythug_692000.htm', 'kutepadude4u27.htm', 'kuzzoo61.htm', 'kydaddyalone.htm', 'laybay343.htm', 'lee_greer74.htm', 'lil_dyprd_baby.htm', 'ljjl_9999.htm', 'lookinfforsex_fishman1192002.htm', 'lorne_a_20014.htm', 'louisianamaster1983.htm', 'loverboy212x.htm', 'lovesoral54956.htm', 'lovesource7.htm', 'love_is_taj.htm', 'lowvoltage18.htm', 'LustfulSucker.htm', 'luv2licku68.htm', 'luvs2eaturpeach.htm', 'lvamf5454.htm', 'm4pixeleen.htm', 'magic4isl2002.htm', 'majordude200.htm', 'makavelli_of_lewiston.htm', 'malhotra_mohit.htm', 'manflooking4sexwithladymoorheadf.htm', 'manofdarkneedsl951.htm', 'manontherun45.htm', 'mansfield_tiger2007.htm', 'marine_with_hard_cock.htm', 'Markiemarcc.htm', 'marriedandlookingforfun31313.htm', 'marriedbutlonelyguy_warped_1701d.htm', 'MatrixJB84.htm', 'meatrocket8.htm', 'mesadash8pilot.htm', 'mg0942 .htm', 'michigan19602000.htm', 'mikeman7828.htm', 'milw_male2002.htm', 'mjn_523.htm', 'mknight322.htm', 'Mountaindew63401.htm', 'mrk_youngblood.htm', 'mr_b_jones2.htm', 'mr_emmert.htm', 'mxracer_126.htm', 'mygsr1.htm', 'nadd556.htm', 'nampamale1958.htm', 'Naproxin.htm', 'navyboy_usn.htm', 'ndbaseballstudd_ndbaseballstudd10.htm', 'ndguy58746.htm', 'needafriendtotalkto2005.htm', 'nevada_bum.htm', 'niceguy4u810.htm', 'Nice_Guy.htm', 'nismo05007.htm', 'njdavenj1.htm', 'notjustanotherncguy.htm', 'novamike30.htm', 'n_karov.htm', 'obercock1985.htm', 'Oberon318.htm', 'OjaiRadDad.htm', 'okape40.htm', 'olgdaddy611.htm', 'onelstsoul.htm', 'orl00fun.htm', 'OSU_Cowboy_24.htm', 'pal03_2004.htm', 'paulcarder86.htm', 'Pavlov1234.htm', 'pedro70001976.htm', 'peter2033.htm', 'pete_wood11.htm', 'phil29ct.htm', 'philknowlan.htm', 'philosophyguy2003.htm', 'photofrog1962.htm', 'pitbulldavid2001_caliguy4u_2005.htm', 'pol_clemente.htm', 'prcvegas10.htm', 'Printo316.htm', 'ProtegeES2002.htm', 'ps3player178.htm', 'quin_says.htm', 'raidersdawg5.htm', 'rauch_jim.htm', 'rayray121980.htm', 'readyto_fck.htm', 'red387peter.htm', 'REDBD.htm', 'rentalmaninpeoria.htm', 'residentsmith.htm', 'restchoice2000.htm', 'ricks_talented_tongue.htm', 'rk63s2000.htm', 'RknRllAnml.htm', 'rn_buzzkiller2003.htm', 'roger4450.htm', 'Rudy_Lee.htm', 'ryan4686.htm', 'Ryan_Thompson.htm', 'sadjack96.htm', 'sahilmittal123.htm', 'Salsakewl.htm', 'schutzea.htm', 'scoobydooatl01.htm', 'sean_lee53.htm', 'sebastian_for_u.htm', 'shinelfmc2005.htm', 'shinster007.htm', 'shoelessdaishi.htm', 'Simpatico174.htm', 'singletxguyforfun.htm', 'six_pack_so_calif.htm', 'sjklanke.htm', 'sjw632001.htm', 'Slikesw.htm', 'smileman74.htm', 'Socal128.htm', 'solepleaser.htm', 'southbayguy310.htm', 'south_calif_46m.htm', 'SpecialGuy29.htm', 'sst83.htm', 'starman542000.htm', 'steamerboyddc1.htm', 'steelmanoo.htm', 'stephen_tanner69.htm', 'stevetakespix_uconnbluenwhite_rickspics2006.htm', 'Steve_steve875.htm', 'stoned_party.htm', 'strega_num_7.htm', 'strongman5577.htm', 'Stylelisticgrooves.htm', 'sugardavis.htm', 'sunrise_sunset66.htm', 'sweet_jason002.htm', 'sweet_jay83.htm', 'swgamaleyess.htm', 'tafatiw2006.htm', 'talldreamy_doc.htm', 'tennisboy213.htm', 'terubble33.htm', 'texassailor04.htm', 'thedude420xxx.htm', 'thenewperson62.htm', 'theoldmonk_4_all.htm', 'thicklongfunone_augustfunone07.htm', 'thomascoffen.htm', 'tim41607.htm', 'tim_arthur2001.htm', 'tim_myers3.htm', 'tito_92503.htm', 'toddgetrdone.htm', 'tofast4yall2003.htm', 'tophat106.htm', 'tory_beltz.htm', 'Trianglelover.htm', 'Truesweetguy69.htm', 'trustnooneeveryonesfake.htm', 'trvlinguy.htm', 'trying_2b_normal.htm', 'Tucsftcoach.htm', 'tulsapunker92_chrisidleone_ardmorewarrior1999.htm', 'User194547.htm', 'usnavyrules2005.htm', 'usta_tennis.htm', 'vanishing150_jayolla21.htm', 'venom8518.htm', 'vipper_131.htm', 'warreng68.htm', 'WBSooner.htm', 'whosurdaddynj.htm', 'whos_your_daddy69_99.htm', 'willeycoyote41.htm', 'wookinpanub420.htm', 'wrestlingdudeeasttn.htm', 'WrghtrAlcm.htm', 'Wulfker_Dragonslayer.htm', 'x_cums_in_the_night_x.htm', 'your_lil_nene.htm', 'Zachery.htm', 'zavior01.htm']\n",
      "387\n"
     ]
    }
   ],
   "source": [
    "print(bad_files_2)\n",
    "print(len(bad_files_2))"
   ]
  },
  {
   "cell_type": "markdown",
   "metadata": {},
   "source": [
    "Third Iteration to filter format 3"
   ]
  },
  {
   "cell_type": "code",
   "execution_count": 49,
   "metadata": {},
   "outputs": [],
   "source": [
    "bad_files_3 = []\n",
    "format_3_files = []\n",
    "for name in bad_files_2:\n",
    "    soup = BeautifulSoup(open(f'./PJ-Dataset-html/{name}', encoding='latin').read(), 'html.parser')\n",
    "    div = soup.findAll('span', attrs= {'class':'code_chat'})\n",
    "\n",
    "    for d in div:\n",
    "        lines = str(d).split('<br />')\n",
    "        lines = '\\n'.join([x.strip() for x in lines if 'PM: ' in x])\n",
    "        replaces = re.findall('<^>*>', lines)\n",
    "        for r in replaces:\n",
    "                lines = lines.replace(r, '')\n",
    "        if 'PM]' in lines:\n",
    "            lines = lines.replace('PM]', 'PM|')\n",
    "            lines = lines.replace(' [', '|')\n",
    "        if 'PM)' in lines:\n",
    "            lines = lines.replace('PM): ', 'PM)|')\n",
    "            lines = lines.replace(' (', '|(')\n",
    "        # print(lines)\n",
    "    try:\n",
    "        pd.read_csv(StringIO(lines), sep='|', header=None)\n",
    "        file = open(f'./PJ_cleaned/{name.split(\".\")[0]}.csv', 'w')\n",
    "        file.writelines(lines)\n",
    "        file.close()\n",
    "        format_3_files.append(name)\n",
    "    except:\n",
    "        bad_files_3.append(name)\n",
    "        continue"
   ]
  },
  {
   "cell_type": "code",
   "execution_count": 50,
   "metadata": {},
   "outputs": [
    {
     "name": "stdout",
     "output_type": "stream",
     "text": [
      "Successfully Cleaned 37%: 236/624\n"
     ]
    }
   ],
   "source": [
    "cln = len(os.listdir('./PJ_cleaned/'))\n",
    "all = len(os.listdir('./PJ-Dataset-html/'))\n",
    "print(f'Successfully Cleaned {int((cln/all)*100)}%: {cln}/{all}')"
   ]
  },
  {
   "cell_type": "code",
   "execution_count": 51,
   "metadata": {},
   "outputs": [
    {
     "name": "stdout",
     "output_type": "stream",
     "text": [
      "['aggresk8er.htm', 'allenriley2011.htm', 'Antitrust40242.htm', 'ArmySgt1961.htm', 'Army_dude1982.htm', 'Arthinice.htm', 'Assfider.htm', 'aticloose.htm', 'atlanta_italian.htm', 'atx_muffdiver_austinphantom.htm', 'audavideo_visualistener.htm', 'augustadude2004.htm', 'awaltherslong.htm', 'b318ti.htm', 'baddboyysweetheart.htm', 'bald_beaver_hunter42025.htm', 'bandit8077.htm', 'banditcapt71.htm', 'bearinwolfsfur.htm', 'ben_taul2000.htm', 'bigdaddy68iou1.htm', 'BillyJoe.htm', 'billy_williams65.htm', 'Blandmtthw.htm', 'blkstallionfourwladies.htm', 'bloodlineofhate.htm', 'bluegrizzly32.htm', 'bmars1411_skydivescout82.htm', 'boosted_hollyjack.htm', 'bossofct.htm', 'boxbody00.htm', 'boywonder832.htm', 'bpvmo.htm', 'bravesfan34581.htm', 'brian_e024.htm', 'broken_empires.htm', 'bronx42162.htm', 'bs9875327.htm', 'burtoncanyon1732002.htm', 'bwblueeyes04.htm', 'cantonguy4fun_cantonguylookin.htm', 'Carlos_Cabrera.htm', 'celica7000.htm', 'changeforthebetter2006.htm', 'charlie_e44.htm', 'chawpie.htm', 'Chaznd74_Chaznd1974.htm', 'cheaperthanawornoutpairofconvers.htm', 'cheren03.htm', 'chicago_naperville.htm', 'chrisnr1998.htm', 'chrispy967.htm', 'christopher_brown1991.htm', 'Clayton_Dickerson.htm', 'cobbler1976.htm', 'cookingman65.htm', 'cooperisaaca.htm', 'cowboymason2000.htm', 'crackspackler200.htm', 'CrazyTrini85.htm', 'crazy_town_4_2_0.htm', 'cseli606.htm', 'Curt350.htm', 'Curvedforherpleasure.htm', 'cutechillicotheguy.htm', 'cuteguyinoc2002.htm', 'cybertoy02.htm', 'c_meandu.htm', 'daddyreyes062000.htm', 'daddywants2playnokc.htm', 'daddy_needs_slave.htm', 'daniel_pulido78.htm', 'dave40962.htm', 'Daveeatsyou.htm', 'davetalbot654.htm', 'daydreamez69.htm', 'daytona02.htm', 'DB.htm', 'deaf1_one.htm', 'deirules83.htm', 'derbear72.htm', 'detfreak99.htm', 'Devilzombie13.htm', 'dhaval_bharucha.htm', 'dicksobig69.htm', 'dick_hungwell64.htm', 'docman_818.htm', 'dogshowsifudo.htm', 'DonCeech.htm', 'double_102000.htm', 'dragonrage613.htm', 'dsalyers167.htm', 'Dsswinney.htm', 'dtwnsd.htm', 'dukered2000.htm', 'duuderm.htm', 'dveightus.htm', 'ecwesh.htm', 'ekoplaya20.htm', 'ems51842002.htm', 'enjoy97601.htm', 'ericthebige2005_WellEndowedEric.htm', 'eveready122.htm', 'e_rectedmale.htm', 'fargo1982.htm', 'fightingfalconsguy.htm', 'figwithbqe.htm', 'fleet_captain_jaime_wolfe.htm', 'florida_in_miami.htm', 'flxnonya.htm', 'fredold_2000.htm', 'freebird_72000.htm', 'fuddster88.htm', 'funindia31.htm', 'funjxn1.htm', 'F_C.htm', 'garycincinnati.htm', 'gavy_nakai.htm', 'georgiamike1968.htm', 'georgia_emti.htm', 'geo_allino.htm', 'ginty77.htm', 'godofwineof3eb.htm', 'GoodBoyB88.htm', 'goodguy1958.htm', 'goodguyportsmouthva.htm', 'grassman334_bigracingfan898.htm1', 'greeneyed121.htm', 'green_eye_latino669.htm', 'greg_green98.htm', 'greg_lovette33.htm', 'groehrig123.htm', 'HAIRYONE4U.htm', 'hardblackdick.htm', 'har_a_lee.htm', 'hckywingnut2000.htm', 'hd88399.htm', 'hel_bomber.htm', 'herrhollrah_unlistedunseen.htm', 'Hibuddywazsup.htm', 'hiexcitement.htm', 'highplainsrider20002000.htm', 'hk_sf_hi.htm', 'hotntastymale.htm', 'hum_366.htm', 'hungindian_09.htm', 'h_k43232.htm', 'icepirate53.htm', 'icetruckkiller103.htm', 'ich_bin_der_eggman_67.htm', 'Indianahighroller.htm', 'innocentz6197.htm', 'iurutherford.htm', 'i_luv_the_putay.htm', 'jackjohnsons7.htm', 'jackson39211wm.htm', 'jaguarsd69.htm', 'jaime2002_22.htm', 'jakelewis315.htm', 'jarobert24.htm', 'jason24829.htm', 'javiermacias84.htm', 'jay1oc.htm', 'jaydan0033.htm', 'jazzeman04.htm', 'jbrian1964.htm', 'jc_bah.htm', 'JDC074andSgpsmalaysia.htm', 'jefe6.htm', 'jeff_fisher94.htm', 'jeremykeister.htm', 'Jimster7.htm', 'jinxman555.htm', 'jjj_200925.htm', 'jkspeedster0112.htm', 'jlh3120.htm', 'jlucero155.htm', 'jmkosis.htm', 'jmv91373.htm', 'johnchess2000.htm', 'john_adamowski.htm', 'jon_mark7.htm', 'Josh_Mcclendon.htm', 'jpeterdk2000.htm', 'jtg7784_tracyg7577.htm', 'jtwant2play.htm', 'jubjub970.htm', 'juggalo4lifesuckas.htm', 'JungleMania20050.htm', 'justinawashcock.htm', 'Justinnbos.htm', 'kardassian_2.htm', 'kashkhan773.htm', 'kaz4541.htm', 'kckboxer18.htm', 'KCROWOO.htm', 'Kent_Grant.htm', 'kissmytickle.htm', 'koolkrod16.htm', 'korn76_99.htm', 'krazythug_692000.htm', 'kutepadude4u27.htm', 'kuzzoo61.htm', 'kydaddyalone.htm', 'laybay343.htm', 'lee_greer74.htm', 'lil_dyprd_baby.htm', 'ljjl_9999.htm', 'lookinfforsex_fishman1192002.htm', 'lorne_a_20014.htm', 'louisianamaster1983.htm', 'loverboy212x.htm', 'lovesoral54956.htm', 'lovesource7.htm', 'love_is_taj.htm', 'lowvoltage18.htm', 'LustfulSucker.htm', 'luv2licku68.htm', 'luvs2eaturpeach.htm', 'lvamf5454.htm', 'm4pixeleen.htm', 'magic4isl2002.htm', 'majordude200.htm', 'makavelli_of_lewiston.htm', 'malhotra_mohit.htm', 'manflooking4sexwithladymoorheadf.htm', 'manofdarkneedsl951.htm', 'manontherun45.htm', 'mansfield_tiger2007.htm', 'marine_with_hard_cock.htm', 'Markiemarcc.htm', 'marriedandlookingforfun31313.htm', 'marriedbutlonelyguy_warped_1701d.htm', 'MatrixJB84.htm', 'meatrocket8.htm', 'mesadash8pilot.htm', 'mg0942 .htm', 'michigan19602000.htm', 'mikeman7828.htm', 'milw_male2002.htm', 'mjn_523.htm', 'mknight322.htm', 'Mountaindew63401.htm', 'mrk_youngblood.htm', 'mr_b_jones2.htm', 'mr_emmert.htm', 'mxracer_126.htm', 'mygsr1.htm', 'nadd556.htm', 'nampamale1958.htm', 'Naproxin.htm', 'navyboy_usn.htm', 'ndbaseballstudd_ndbaseballstudd10.htm', 'ndguy58746.htm', 'needafriendtotalkto2005.htm', 'nevada_bum.htm', 'niceguy4u810.htm', 'Nice_Guy.htm', 'nismo05007.htm', 'njdavenj1.htm', 'notjustanotherncguy.htm', 'novamike30.htm', 'n_karov.htm', 'obercock1985.htm', 'Oberon318.htm', 'OjaiRadDad.htm', 'okape40.htm', 'olgdaddy611.htm', 'onelstsoul.htm', 'orl00fun.htm', 'OSU_Cowboy_24.htm', 'pal03_2004.htm', 'paulcarder86.htm', 'Pavlov1234.htm', 'pedro70001976.htm', 'peter2033.htm', 'pete_wood11.htm', 'phil29ct.htm', 'philknowlan.htm', 'philosophyguy2003.htm', 'photofrog1962.htm', 'pitbulldavid2001_caliguy4u_2005.htm', 'pol_clemente.htm', 'prcvegas10.htm', 'Printo316.htm', 'ProtegeES2002.htm', 'ps3player178.htm', 'quin_says.htm', 'raidersdawg5.htm', 'rauch_jim.htm', 'rayray121980.htm', 'readyto_fck.htm', 'red387peter.htm', 'REDBD.htm', 'rentalmaninpeoria.htm', 'residentsmith.htm', 'restchoice2000.htm', 'ricks_talented_tongue.htm', 'rk63s2000.htm', 'RknRllAnml.htm', 'rn_buzzkiller2003.htm', 'roger4450.htm', 'Rudy_Lee.htm', 'ryan4686.htm', 'Ryan_Thompson.htm', 'sadjack96.htm', 'sahilmittal123.htm', 'Salsakewl.htm', 'schutzea.htm', 'scoobydooatl01.htm', 'sean_lee53.htm', 'sebastian_for_u.htm', 'shinelfmc2005.htm', 'shinster007.htm', 'shoelessdaishi.htm', 'Simpatico174.htm', 'singletxguyforfun.htm', 'six_pack_so_calif.htm', 'sjklanke.htm', 'sjw632001.htm', 'Slikesw.htm', 'smileman74.htm', 'Socal128.htm', 'solepleaser.htm', 'southbayguy310.htm', 'south_calif_46m.htm', 'SpecialGuy29.htm', 'sst83.htm', 'starman542000.htm', 'steamerboyddc1.htm', 'steelmanoo.htm', 'stephen_tanner69.htm', 'stevetakespix_uconnbluenwhite_rickspics2006.htm', 'Steve_steve875.htm', 'stoned_party.htm', 'strega_num_7.htm', 'strongman5577.htm', 'Stylelisticgrooves.htm', 'sugardavis.htm', 'sunrise_sunset66.htm', 'sweet_jason002.htm', 'sweet_jay83.htm', 'swgamaleyess.htm', 'tafatiw2006.htm', 'talldreamy_doc.htm', 'tennisboy213.htm', 'terubble33.htm', 'texassailor04.htm', 'thedude420xxx.htm', 'thenewperson62.htm', 'theoldmonk_4_all.htm', 'thicklongfunone_augustfunone07.htm', 'thomascoffen.htm', 'tim41607.htm', 'tim_arthur2001.htm', 'tim_myers3.htm', 'tito_92503.htm', 'toddgetrdone.htm', 'tofast4yall2003.htm', 'tophat106.htm', 'tory_beltz.htm', 'Trianglelover.htm', 'Truesweetguy69.htm', 'trustnooneeveryonesfake.htm', 'trvlinguy.htm', 'trying_2b_normal.htm', 'Tucsftcoach.htm', 'tulsapunker92_chrisidleone_ardmorewarrior1999.htm', 'User194547.htm', 'usnavyrules2005.htm', 'usta_tennis.htm', 'vanishing150_jayolla21.htm', 'venom8518.htm', 'vipper_131.htm', 'warreng68.htm', 'WBSooner.htm', 'whosurdaddynj.htm', 'whos_your_daddy69_99.htm', 'willeycoyote41.htm', 'wookinpanub420.htm', 'wrestlingdudeeasttn.htm', 'WrghtrAlcm.htm', 'Wulfker_Dragonslayer.htm', 'x_cums_in_the_night_x.htm', 'your_lil_nene.htm', 'Zachery.htm', 'zavior01.htm']\n",
      "387\n"
     ]
    }
   ],
   "source": [
    "print(bad_files_3)\n",
    "print(len(bad_files_3))"
   ]
  }
 ],
 "metadata": {
  "kernelspec": {
   "display_name": "satc-venv",
   "language": "python",
   "name": "python3"
  },
  "language_info": {
   "codemirror_mode": {
    "name": "ipython",
    "version": 3
   },
   "file_extension": ".py",
   "mimetype": "text/x-python",
   "name": "python",
   "nbconvert_exporter": "python",
   "pygments_lexer": "ipython3",
   "version": "undefined.undefined.undefined"
  }
 },
 "nbformat": 4,
 "nbformat_minor": 2
}
