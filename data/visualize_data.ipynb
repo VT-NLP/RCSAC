{
 "cells": [
  {
   "cell_type": "code",
   "execution_count": 25,
   "metadata": {},
   "outputs": [],
   "source": [
    "import os\n",
    "import json\n",
    "import pandas as pd"
   ]
  },
  {
   "cell_type": "code",
   "execution_count": 9,
   "metadata": {},
   "outputs": [
    {
     "data": {
      "text/plain": [
       "101"
      ]
     },
     "execution_count": 9,
     "metadata": {},
     "output_type": "execute_result"
    }
   ],
   "source": [
    "files = [x for x in os.listdir('./PJdataset_clean/PJ_clean_final100') if \".csv\" in x]\n",
    "len(files)"
   ]
  },
  {
   "cell_type": "code",
   "execution_count": 29,
   "metadata": {},
   "outputs": [],
   "source": [
    "avoid_files = [\"Copy of bmichigan69.csv\"]"
   ]
  },
  {
   "cell_type": "code",
   "execution_count": 33,
   "metadata": {},
   "outputs": [
    {
     "name": "stdout",
     "output_type": "stream",
     "text": [
      "dble_d1.csv\n",
      "celica7000.csv\n",
      "camaroz282006ss.csv\n",
      "bossofct.csv\n",
      "boxbody00.csv\n",
      "craigtraylor.csv\n",
      "ACAR556.csv\n",
      "awaltherslong.csv\n",
      "cowboymason2000.csv\n",
      "derbear72.csv\n",
      "blaggca.csv\n",
      "cheaperthanawornoutpairofconvers.csv\n",
      "balin79.csv\n",
      "come_ride_and_chill_with_me.csv\n",
      "double_102000.csv\n",
      "elchiva8395020.csv\n",
      "dragonrage613.csv\n",
      "can_i_rape_you_anally.csv\n",
      "alonzo403.csv\n",
      "chrispy967.csv\n",
      "corazon23456partio23456.csv\n",
      "dan45_m_1.csv\n",
      "cutechillicotheguy.csv\n",
      "abraxisreborn.csv\n",
      "dveightus.csv\n",
      "artc68.csv\n",
      "dragonhighlord19.csv\n",
      "asian_kreationz.csv\n",
      "daydreamez69.csv\n",
      "chicago_naperville.csv\n",
      "curvedforherpleasure.csv\n",
      "briman31282.csv\n",
      "blkstallionfourwladies.csv\n",
      "cobbler1976.csv\n",
      "deirules83.csv\n",
      "burtoncanyon1732002.csv\n",
      "e_rectedmale.csv\n",
      "daddy_needs_slave.csv\n",
      "cheren03.csv\n",
      "a_latino_man559.csv\n",
      "daggers_of_passion.csv\n",
      "blindsey_01.csv\n",
      "broken_empires.csv\n",
      "darkprince666_2006.csv\n",
      "chawpie.csv\n",
      "bendix632.csv\n",
      "daytona02.csv\n",
      "DonCeech.csv\n",
      "Assfider.csv\n",
      "bud44800.csv\n",
      "bud448002.csv\n",
      "darthkaveli.csv\n",
      "edgesoccer22.csv\n",
      "daniel_pulido78.csv\n",
      "Develo Arma.csv\n",
      "antonio69_929.csv\n",
      "erickbigdick.csv\n",
      "arb1210.csv\n",
      "billy_williams65.csv\n",
      "ballsac49829.csv\n",
      "cookingman65.csv\n",
      "darkguyx31.csv\n",
      "dhaval_bharucha.csv\n",
      "cal_xicano130.csv\n",
      "big_dave5188.csv\n",
      "clitlicker42303.csv\n",
      "bluebentleydog.csv\n",
      "dragon_2973.csv\n",
      "bluegrizzly32.csv\n",
      "construction1302.csv\n",
      "cseli606.csv\n",
      "Bpm0207.csv\n",
      "bald_beaver_hunter42025.csv\n",
      "daddyreyes062000.csv\n",
      "b080387.csv\n",
      "bob10282001.csv\n",
      "alanp110.csv\n",
      "caspersc78.csv\n",
      "cybertoy02.csv\n",
      "donni1957_male.csv\n",
      "atonomous2000.csv\n",
      "bmichigan69.csv\n",
      "davetalbot654.csv\n",
      "dipoyoy.csv\n",
      "changeforthebetter2006.csv\n",
      "cooperisaaca.csv\n",
      "enjoy97601.csv\n",
      "chinaski818.csv\n",
      "deaf1_one.csv\n",
      "DavieWants2.csv\n",
      "dick_hungwell64.csv\n",
      "boywonder832.csv\n",
      "ekoplaya20.csv\n",
      "desiredalex.csv\n",
      "Crazy4theNATS.csv\n",
      "docman_818.csv\n",
      "cuteguyinoc2002.csv\n",
      "ecwesh.csv\n",
      "detfreak99@sbcglobal.net.csv\n",
      "dukered2000.csv\n"
     ]
    }
   ],
   "source": [
    "save_json = {}\n",
    "for filename in files:\n",
    "    if filename not in avoid_files:\n",
    "        inst_json = {}\n",
    "        # inst_json['filename'] = filename\n",
    "        print(filename)\n",
    "        df = pd.read_csv(f'./PJdataset_clean/PJ_clean_final100/{filename}', sep=';')\n",
    "        #df[\"ID\"]['msg']\n",
    "        if df[\"ID\"].values[0][-1] == \" \":\n",
    "            pad = \" \"\n",
    "        else:\n",
    "            pad = \"\"\n",
    "        inst_json[\"groomer_max\"] = max([len(str(x)) for x in df.loc[df[\"ID\"] == f\"{filename[:-4]}{pad}\"][\"msg\"].values])\n",
    "        inst_json[\"groomer_min\"] = min([len(str(x)) for x in df.loc[df[\"ID\"] == f\"{filename[:-4]}{pad}\"][\"msg\"].values])\n",
    "\n",
    "        inst_json[\"victim_max\"] = max([len(str(x)) for x in df.loc[df[\"ID\"] != f\"{filename[:-4]}{pad}\"][\"msg\"].values])\n",
    "        inst_json[\"victim_min\"] = min([len(str(x)) for x in df.loc[df[\"ID\"] != f\"{filename[:-4]}{pad}\"][\"msg\"].values])\n",
    "\n",
    "        inst_json[\"conversation_length\"] = len(df[\"msg\"].values)\n",
    "        save_json[filename] = inst_json"
   ]
  },
  {
   "cell_type": "code",
   "execution_count": 38,
   "metadata": {},
   "outputs": [
    {
     "name": "stdout",
     "output_type": "stream",
     "text": [
      "{'groomer_max_avg': 280.49, 'groomer_min_avg': 1.76, 'victim_max_avg': 247.57, 'victim_min_avg': 1.66, 'conversation_length_avg': 937.07, 'groomer_ds_max': 1453, 'groomer_ds_min': 1, 'victim_ds_max': 1532, 'victim_ds_min': 1, 'conversation_length_ds_max': 6411, 'conversation_length_ds_min': 88}\n"
     ]
    }
   ],
   "source": [
    "# print(save_json)\n",
    "temp = {\n",
    "    \"groomer_max_avg\":0,\n",
    "    \"groomer_min_avg\":0,\n",
    "    \"victim_max_avg\":0,\n",
    "    \"victim_min_avg\":0,\n",
    "    \"conversation_length_avg\":0\n",
    "}\n",
    "conv = []\n",
    "grm = []\n",
    "vct = []\n",
    "for key in save_json:\n",
    "    instance = save_json[key]\n",
    "    temp[\"groomer_max_avg\"] += instance[\"groomer_max\"]\n",
    "    grm.append(instance[\"groomer_max\"])\n",
    "    temp[\"groomer_min_avg\"] += instance[\"groomer_min\"]\n",
    "    grm.append(instance[\"groomer_min\"])\n",
    "    temp[\"victim_max_avg\"] += instance[\"victim_max\"]\n",
    "    vct.append(instance[\"victim_max\"])\n",
    "    temp[\"victim_min_avg\"] += instance[\"victim_min\"]\n",
    "    vct.append(instance[\"victim_min\"])\n",
    "    temp[\"conversation_length_avg\"] += instance[\"conversation_length\"]\n",
    "    conv.append(instance[\"conversation_length\"])\n",
    "\n",
    "temp[\"groomer_max_avg\"] /= len(save_json)\n",
    "temp[\"groomer_min_avg\"] /= len(save_json)\n",
    "temp[\"victim_max_avg\"] /= len(save_json)\n",
    "temp[\"victim_min_avg\"] /= len(save_json)\n",
    "temp[\"conversation_length_avg\"] /= len(save_json)\n",
    "temp[\"groomer_ds_max\"] = max(grm)\n",
    "temp[\"groomer_ds_min\"] = min(grm)\n",
    "temp[\"victim_ds_max\"] = max(vct)\n",
    "temp[\"victim_ds_min\"] = min(vct)\n",
    "temp[\"conversation_length_ds_max\"] = max(conv)\n",
    "temp[\"conversation_length_ds_min\"] = min(conv)\n",
    "\n",
    "print(temp)"
   ]
  }
 ],
 "metadata": {
  "kernelspec": {
   "display_name": "satc-venv",
   "language": "python",
   "name": "python3"
  },
  "language_info": {
   "codemirror_mode": {
    "name": "ipython",
    "version": 3
   },
   "file_extension": ".py",
   "mimetype": "text/x-python",
   "name": "python",
   "nbconvert_exporter": "python",
   "pygments_lexer": "ipython3",
   "version": "3.10.8"
  }
 },
 "nbformat": 4,
 "nbformat_minor": 2
}
